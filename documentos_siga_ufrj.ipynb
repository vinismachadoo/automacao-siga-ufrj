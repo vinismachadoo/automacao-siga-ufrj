{
  "nbformat": 4,
  "nbformat_minor": 0,
  "metadata": {
    "colab": {
      "name": "documentos_siga_ufrj.ipynb",
      "provenance": [],
      "collapsed_sections": [],
      "include_colab_link": true
    },
    "kernelspec": {
      "name": "python3",
      "display_name": "Python 3"
    }
  },
  "cells": [
    {
      "cell_type": "markdown",
      "metadata": {
        "id": "view-in-github",
        "colab_type": "text"
      },
      "source": [
        "<a href=\"https://colab.research.google.com/github/vinismachadoo/automacao-siga-ufrj/blob/main/documentos_siga_ufrj.ipynb\" target=\"_parent\"><img src=\"https://colab.research.google.com/assets/colab-badge.svg\" alt=\"Open In Colab\"/></a>"
      ]
    },
    {
      "cell_type": "code",
      "metadata": {
        "id": "SfYEADZjmpc-"
      },
      "source": [
        "!pip install requests-html==0.9.0 -q"
      ],
      "execution_count": 1,
      "outputs": []
    },
    {
      "cell_type": "code",
      "metadata": {
        "id": "9eBLs4rwsS-S"
      },
      "source": [
        "import time, getpass, io\n",
        "from requests_html import HTMLSession\n",
        "from bs4 import BeautifulSoup"
      ],
      "execution_count": 2,
      "outputs": []
    },
    {
      "cell_type": "code",
      "metadata": {
        "id": "cMq3mPkLB9Hw"
      },
      "source": [
        "def create_menu():\n",
        "\n",
        "    menu = {\n",
        "        1: 'Regularmente Matriculado',\n",
        "        2: 'Passe Livre Universitário',\n",
        "        3: 'Historico',\n",
        "        4: 'Boletim',\n",
        "        5: 'BOA',\n",
        "        6: 'CRID'\n",
        "    }\n",
        "    \n",
        "    print('--------------------')\n",
        "    print('        MENU        ')\n",
        "    print('--------------------')\n",
        "    for key in menu:\n",
        "        print(f'{key}. {menu[key]}')\n",
        "    print('7. Sair')\n",
        "\n",
        "    return menu"
      ],
      "execution_count": 3,
      "outputs": []
    },
    {
      "cell_type": "code",
      "metadata": {
        "id": "KlPRtz9wBuNY"
      },
      "source": [
        "def getDocumento_siga(usuario, senha, documento):\n",
        "\n",
        "    menu = {\n",
        "        'Regularmente Matriculado': {'j_id103:0:j_id104':'j_id103:0:j_id104'},\n",
        "        'Passe Livre Universitário': {'j_id103:2:j_id104':'j_id103:2:j_id104'},\n",
        "        'Historico': {'botaoHistorico':'botaoHistorico'},\n",
        "        'Boletim': {'botaoBoletim':'botaoBoletim'},\n",
        "        'BOA': {'j_id123': 'j_id123'},\n",
        "        'CRID': {'j_id127': 'j_id127'} \n",
        "    }\n",
        "    \n",
        "    session = HTMLSession()\n",
        "    \n",
        "    headers_main = {\n",
        "        'sec-ch-ua': '\" Not;A Brand\";v=\"99\", \"Microsoft Edge\";v=\"91\", \"Chromium\";v=\"91\"',\n",
        "        'sec-ch-ua-mobile': '?0',\n",
        "        'Upgrade-Insecure-Requests': '1',\n",
        "        'User-Agent': 'Mozilla/5.0 (Windows NT 10.0; Win64; x64) AppleWebKit/537.36 (KHTML, like Gecko) Chrome/91.0.4472.101 Safari/537.36 Edg/91.0.864.48',\n",
        "    }\n",
        "\n",
        "    main_page = session.get('https://portal.ufrj.br/Portal/', headers=headers_main, stream=True)\n",
        "\n",
        "    headers_auth = {\n",
        "        'authority': 'portal.ufrj.br',\n",
        "        'sec-ch-ua': '\" Not;A Brand\";v=\"99\", \"Microsoft Edge\";v=\"91\", \"Chromium\";v=\"91\"',\n",
        "        'sec-ch-ua-mobile': '?0',\n",
        "        'upgrade-insecure-requests': '1',\n",
        "        'user-agent': 'Mozilla/5.0 (Windows NT 10.0; Win64; x64) AppleWebKit/537.36 (KHTML, like Gecko) Chrome/91.0.4472.101 Safari/537.36 Edg/91.0.864.48',\n",
        "        'accept': 'text/html,application/xhtml+xml,application/xml;q=0.9,image/webp,image/apng,*/*;q=0.8,application/signed-exchange;v=b3;q=0.9',\n",
        "        'sec-fetch-site': 'same-origin',\n",
        "        'sec-fetch-mode': 'navigate',\n",
        "        'sec-fetch-dest': 'documento',\n",
        "        'Referer': 'https://portal.ufrj.br/Portal/',\n",
        "        'accept-language': 'pt-BR,pt;q=0.9,en;q=0.8,en-GB;q=0.7,en-US;q=0.6',\n",
        "        'cookie': f\"cookie-portal={session.cookies.get_dict()['cookie-portal']}; JSESSIONID={session.cookies.get_dict()['JSESSIONID']}; _fbp=fb.1.1615472306244.1890742625; __utmz=263428936.1618402335.1.1.utmcsr=(direct)|utmccn=(direct)|utmcmd=(none); _ga_4RHYVS74FT=GS1.1.1620952983.4.1.1620953013.0; _ga=GA1.2.1617855722.1610505084; __utmc=263428936; __utma=263428936.1617855722.1610505084.1623806842.1623809568.8; __utmb=263428936.7.10.1623809568\",\n",
        "    }\n",
        "\n",
        "    authorization = session.get('https://portal.ufrj.br/Portal/auth.seam', headers=headers_auth, allow_redirects=False)\n",
        "\n",
        "    authorization2 = session.get(authorization.headers['Location'], headers=headers_auth)\n",
        "\n",
        "    headers_login = {\n",
        "        'authority': 'portal.ufrj.br',\n",
        "        'cache-control': 'max-age=0',\n",
        "        'sec-ch-ua': '\" Not;A Brand\";v=\"99\", \"Microsoft Edge\";v=\"91\", \"Chromium\";v=\"91\"',\n",
        "        'sec-ch-ua-mobile': '?0',\n",
        "        'upgrade-insecure-requests': '1',\n",
        "        'origin': 'https://portal.ufrj.br',\n",
        "        'content-type': 'application/x-www-form-urlencoded',\n",
        "        'user-agent': 'Mozilla/5.0 (Windows NT 10.0; Win64; x64) AppleWebKit/537.36 (KHTML, like Gecko) Chrome/91.0.4472.101 Safari/537.36 Edg/91.0.864.48',\n",
        "        'accept': 'text/html,application/xhtml+xml,application/xml;q=0.9,image/webp,image/apng,*/*;q=0.8,application/signed-exchange;v=b3;q=0.9',\n",
        "        'sec-fetch-site': 'same-origin',\n",
        "        'sec-fetch-mode': 'navigate',\n",
        "        'sec-fetch-user': '?1',\n",
        "        'sec-fetch-dest': 'documento',\n",
        "        'Referer': authorization.headers['Location'],\n",
        "        'accept-language': 'pt-BR,pt;q=0.9,en;q=0.8,en-GB;q=0.7,en-US;q=0.6',\n",
        "        'cookie': f\"cookie-portal={session.cookies.get_dict()['cookie-portal']}; JSESSIONID={session.cookies.get_dict()['JSESSIONID']}; _fbp=fb.1.1615472306244.1890742625; __utmz=263428936.1618402335.1.1.utmcsr=(direct)|utmccn=(direct)|utmcmd=(none); _ga_4RHYVS74FT=GS1.1.1620952983.4.1.1620953013.0; _ga=GA1.2.1617855722.1610505084; __utmc=263428936; __utma=263428936.1617855722.1610505084.1623806842.1623809568.8; __utmb=263428936.7.10.1623809568\",\n",
        "    }\n",
        "\n",
        "    data_login = {\n",
        "      'gnosys-login-form': 'gnosys-login-form',\n",
        "      'inputUsername': usuario,\n",
        "      'inputPassword': senha,\n",
        "      'btnEntrar': 'Entrar',\n",
        "      'javax.faces.ViewState': 'j_id1'\n",
        "    }\n",
        "\n",
        "    login = session.post('https://portal.ufrj.br/Portal/acesso', headers=headers_login, data=data_login, allow_redirects=False)\n",
        "    \n",
        "    headers_login['cookie'] += f\"; {login.headers['Set-Cookie'].split(';')[0]}\"\n",
        "\n",
        "    login2 = session.get(login.headers['Location'], headers=headers_login)\n",
        "    soup_login = BeautifulSoup(login2.text, 'html.parser')\n",
        "\n",
        "    headers_docs = {\n",
        "        'authority': 'portal.ufrj.br',\n",
        "        'sec-ch-ua': '\" Not;A Brand\";v=\"99\", \"Microsoft Edge\";v=\"91\", \"Chromium\";v=\"91\"',\n",
        "        'sec-ch-ua-mobile': '?0',\n",
        "        'upgrade-insecure-requests': '1',\n",
        "        'user-agent': 'Mozilla/5.0 (Windows NT 10.0; Win64; x64) AppleWebKit/537.36 (KHTML, like Gecko) Chrome/91.0.4472.101 Safari/537.36 Edg/91.0.864.48',\n",
        "        'accept': 'text/html,application/xhtml+xml,application/xml;q=0.9,image/webp,image/apng,*/*;q=0.8,application/signed-exchange;v=b3;q=0.9',\n",
        "        'sec-fetch-site': 'same-origin',\n",
        "        'sec-fetch-mode': 'navigate',\n",
        "        'sec-fetch-user': '?1',\n",
        "        'sec-fetch-dest': 'documento',\n",
        "        'Referer': login.headers['Location'],\n",
        "        'accept-language': 'pt-BR,pt;q=0.9,en;q=0.8,en-GB;q=0.7,en-US;q=0.6',\n",
        "        'cookie': f\"_fbp=fb.1.1615472306244.1890742625; __utmz=263428936.1618402335.1.1.utmcsr=(direct)|utmccn=(direct)|utmcmd=(none); _ga_4RHYVS74FT=GS1.1.1620952983.4.1.1620953013.0; _ga=GA1.2.1617855722.1610505084; __utma=263428936.1617855722.1610505084.1623809568.1623888920.9; __utmc=263428936; {login.headers['Set-Cookie'].split(';')[0]}; __utmb=263428936.2.10.1623888920\",\n",
        "    }\n",
        "\n",
        "    docs = session.get('https://portal.ufrj.br/Documentos', headers=headers_docs, allow_redirects=False)\n",
        "\n",
        "    headers_docs2 = {\n",
        "        'sec-ch-ua': '\" Not;A Brand\";v=\"99\", \"Microsoft Edge\";v=\"91\", \"Chromium\";v=\"91\"',\n",
        "        'sec-ch-ua-mobile': '?0',\n",
        "        'Upgrade-Insecure-Requests': '1',\n",
        "        'User-Agent': 'Mozilla/5.0 (Windows NT 10.0; Win64; x64) AppleWebKit/537.36 (KHTML, like Gecko) Chrome/91.0.4472.101 Safari/537.36 Edg/91.0.864.48',\n",
        "        'Referer': login.headers['Location'],\n",
        "    }\n",
        "\n",
        "    docs2 = session.get(docs.headers['Location'], headers=headers_docs2)\n",
        "\n",
        "    headers_docs3 = {\n",
        "        'authority': 'portal.ufrj.br',\n",
        "        'sec-ch-ua': '\" Not;A Brand\";v=\"99\", \"Microsoft Edge\";v=\"91\", \"Chromium\";v=\"91\"',\n",
        "        'sec-ch-ua-mobile': '?0',\n",
        "        'upgrade-insecure-requests': '1',\n",
        "        'user-agent': 'Mozilla/5.0 (Windows NT 10.0; Win64; x64) AppleWebKit/537.36 (KHTML, like Gecko) Chrome/91.0.4472.101 Safari/537.36 Edg/91.0.864.48',\n",
        "        'accept': 'text/html,application/xhtml+xml,application/xml;q=0.9,image/webp,image/apng,*/*;q=0.8,application/signed-exchange;v=b3;q=0.9',\n",
        "        'sec-fetch-site': 'same-origin',\n",
        "        'sec-fetch-mode': 'navigate',\n",
        "        'sec-fetch-dest': 'documento',\n",
        "        'Referer': docs.headers['Location'],\n",
        "        'accept-language': 'pt-BR,pt;q=0.9,en;q=0.8,en-GB;q=0.7,en-US;q=0.6',\n",
        "        'cookie': f\"cookie-portal={session.cookies.get_dict()['cookie-portal']}; _fbp=fb.1.1615472306244.1890742625; __utmz=263428936.1618402335.1.1.utmcsr=(direct)|utmccn=(direct)|utmcmd=(none); _ga_4RHYVS74FT=GS1.1.1620952983.4.1.1620953013.0; _ga=GA1.2.1617855722.1610505084; __utma=263428936.1617855722.1610505084.1623809568.1623888920.9; __utmc=263428936; {login.headers['Set-Cookie'].split(';')[0]}; __utmb=263428936.2.10.1623888920\",\n",
        "    }\n",
        "\n",
        "    docs3 = session.get('https://portal.ufrj.br/Documentos/auth.seam', headers=headers_docs3, allow_redirects=False)\n",
        "\n",
        "    headers_docs4 = {\n",
        "        'authority': 'portal.ufrj.br',\n",
        "        'upgrade-insecure-requests': '1',\n",
        "        'user-agent': 'Mozilla/5.0 (Windows NT 10.0; Win64; x64) AppleWebKit/537.36 (KHTML, like Gecko) Chrome/91.0.4472.101 Safari/537.36 Edg/91.0.864.48',\n",
        "        'accept': 'text/html,application/xhtml+xml,application/xml;q=0.9,image/webp,image/apng,*/*;q=0.8,application/signed-exchange;v=b3;q=0.9',\n",
        "        'sec-fetch-site': 'same-origin',\n",
        "        'sec-fetch-mode': 'navigate',\n",
        "        'sec-fetch-dest': 'documento',\n",
        "        'sec-ch-ua': '\" Not;A Brand\";v=\"99\", \"Microsoft Edge\";v=\"91\", \"Chromium\";v=\"91\"',\n",
        "        'sec-ch-ua-mobile': '?0',\n",
        "        'Referer': docs.headers['Location'],\n",
        "        'accept-language': 'pt-BR,pt;q=0.9,en;q=0.8,en-GB;q=0.7,en-US;q=0.6',\n",
        "        'cookie': f\"cookie-portal={session.cookies.get_dict()['cookie-portal']}; {docs3.headers['Set-Cookie'].split(';')[0]}; _fbp=fb.1.1615472306244.1890742625; __utmz=263428936.1618402335.1.1.utmcsr=(direct)|utmccn=(direct)|utmcmd=(none); _ga_4RHYVS74FT=GS1.1.1620952983.4.1.1620953013.0; _ga=GA1.2.1617855722.1610505084; __utma=263428936.1617855722.1610505084.1623809568.1623888920.9; __utmc=263428936; {login.headers['Set-Cookie'].split(';')[0]}; __utmb=263428936.2.10.1623888920\",\n",
        "    }\n",
        "\n",
        "    docs4 = session.get(docs3.headers['Location'], headers=headers_docs4)\n",
        "        \n",
        "    headers_emit = {\n",
        "        'authority': 'portal.ufrj.br',\n",
        "        'cache-control': 'max-age=0',\n",
        "        'sec-ch-ua': '\" Not;A Brand\";v=\"99\", \"Microsoft Edge\";v=\"91\", \"Chromium\";v=\"91\"',\n",
        "        'sec-ch-ua-mobile': '?0',\n",
        "        'upgrade-insecure-requests': '1',\n",
        "        'origin': 'https://portal.ufrj.br',\n",
        "        'content-type': 'application/x-www-form-urlencoded',\n",
        "        'user-agent': 'Mozilla/5.0 (Windows NT 10.0; Win64; x64) AppleWebKit/537.36 (KHTML, like Gecko) Chrome/91.0.4472.101 Safari/537.36 Edg/91.0.864.48',\n",
        "        'accept': 'text/html,application/xhtml+xml,application/xml;q=0.9,image/webp,image/apng,*/*;q=0.8,application/signed-exchange;v=b3;q=0.9',\n",
        "        'sec-fetch-site': 'same-origin',\n",
        "        'sec-fetch-mode': 'navigate',\n",
        "        'sec-fetch-user': '?1',\n",
        "        'sec-fetch-dest': 'documento',\n",
        "        'Referer': docs3.headers['Location'].split(';')[0] + '?' + docs3.headers['Location'].split('?')[1],\n",
        "        'accept-language': 'pt-BR,pt;q=0.9,en;q=0.8,en-GB;q=0.7,en-US;q=0.6',\n",
        "        'cookie': f\"cookie-portal={session.cookies.get_dict()['cookie-portal']}; {docs3.headers['Set-Cookie'].split(';')[0]}; _fbp=fb.1.1615472306244.1890742625; __utmz=263428936.1618402335.1.1.utmcsr=(direct)|utmccn=(direct)|utmcmd=(none); _ga_4RHYVS74FT=GS1.1.1620952983.4.1.1620953013.0; _ga=GA1.2.1617855722.1610505084; __utma=263428936.1617855722.1610505084.1623809568.1623888920.9; __utmc=263428936; {login.headers['Set-Cookie'].split(';')[0]}; fileDownload=true; __utmb=263428936.2.10.1623888920\",\n",
        "    }\n",
        "\n",
        "    data_emit = {\n",
        "        'gnosys-decor-vis-seletor-matricula-aluno': '0',\n",
        "        'gnosys-decor-vis-seletor-matricula-form': 'gnosys-decor-vis-seletor-matricula-form',\n",
        "        'autoScroll': '',\n",
        "        'javax.faces.ViewState': 'j_id1',\n",
        "        **menu[documento]\n",
        "    }\n",
        "\n",
        "    emit = session.post('https://portal.ufrj.br/Documentos/certidoes/emitir', headers=headers_emit, data=data_emit, allow_redirects=False)\n",
        "\n",
        "    headers_emit2 = {\n",
        "        'authority': 'portal.ufrj.br',\n",
        "        'cache-control': 'max-age=0',\n",
        "        'upgrade-insecure-requests': '1',\n",
        "        'user-agent': 'Mozilla/5.0 (Windows NT 10.0; Win64; x64) AppleWebKit/537.36 (KHTML, like Gecko) Chrome/91.0.4472.101 Safari/537.36 Edg/91.0.864.48',\n",
        "        'accept': 'text/html,application/xhtml+xml,application/xml;q=0.9,image/webp,image/apng,*/*;q=0.8,application/signed-exchange;v=b3;q=0.9',\n",
        "        'sec-fetch-site': 'same-origin',\n",
        "        'sec-fetch-mode': 'navigate',\n",
        "        'sec-fetch-user': '?1',\n",
        "        'sec-fetch-dest': 'documento',\n",
        "        'sec-ch-ua': '\" Not;A Brand\";v=\"99\", \"Microsoft Edge\";v=\"91\", \"Chromium\";v=\"91\"',\n",
        "        'sec-ch-ua-mobile': '?0',\n",
        "        'Referer': docs3.headers['Location'].split(';')[0] + '?' + docs3.headers['Location'].split('?')[1],\n",
        "        'accept-language': 'pt-BR,pt;q=0.9,en;q=0.8,en-GB;q=0.7,en-US;q=0.6',\n",
        "        'cookie': f\"cookie-portal={session.cookies.get_dict()['cookie-portal']}; {docs3.headers['Set-Cookie'].split(';')[0]}; _fbp=fb.1.1615472306244.1890742625; __utmz=263428936.1618402335.1.1.utmcsr=(direct)|utmccn=(direct)|utmcmd=(none); _ga_4RHYVS74FT=GS1.1.1620952983.4.1.1620953013.0; _ga=GA1.2.1617855722.1610505084; __utma=263428936.1617855722.1610505084.1623809568.1623888920.9; __utmc=263428936; {emit.headers['Set-Cookie'].split(';')[0]}; fileDownload=true; __utmb=263428936.2.10.1623888920\",\n",
        "    }\n",
        "\n",
        "    final_doc = session.get(emit.headers['Location'], headers=headers_emit2)\n",
        "    \n",
        "    strIO = io.BytesIO(final_doc.content)\n",
        "    strIO.seek(0)\n",
        "    strIO.name = f\"{soup_login.find('div', {'class':'gnosys-login-nome'}).text} - {documento}.pdf\"\n",
        "\n",
        "    return strIO"
      ],
      "execution_count": 4,
      "outputs": []
    },
    {
      "cell_type": "code",
      "metadata": {
        "colab": {
          "base_uri": "https://localhost:8080/"
        },
        "id": "77ViQf_ZqypG",
        "outputId": "e301a556-3a8e-46e1-f9bf-07dbacb9e0cf"
      },
      "source": [
        "print('Bem vindo ao portal SIGA UFRJ\\n')\n",
        "\n",
        "print('Por favor insira seu usuário')\n",
        "usuario = getpass.getpass()\n",
        "print('Por favor insira sua senha')\n",
        "senha = getpass.getpass()\n",
        "\n",
        "menu = create_menu()\n",
        "\n",
        "while True:    \n",
        "    print('\\nQual o número de sua solicitação?')\n",
        "    documento = int(input())\n",
        "\n",
        "    if documento > 0 and documento < 7:\n",
        "        doc = getDocumento_siga(usuario, senha, menu[documento])\n",
        "    elif documento == 7:\n",
        "        print('\\nTenha um bom dia!')\n",
        "        break\n",
        "    else:\n",
        "        print('Solicitação não encontrada. Por favor tente novamente\\n')"
      ],
      "execution_count": 5,
      "outputs": [
        {
          "output_type": "stream",
          "text": [
            "Bem vindo ao portal SIGA UFRJ\n",
            "\n",
            "Por favor insira seu usuário\n",
            "··········\n",
            "Por favor insira sua senha\n",
            "··········\n",
            "--------------------\n",
            "        MENU        \n",
            "--------------------\n",
            "1. Regularmente Matriculado\n",
            "2. Passe Livre Universitário\n",
            "3. Historico\n",
            "4. Boletim\n",
            "5. BOA\n",
            "6. CRID\n",
            "7. Sair\n",
            "\n",
            "Qual o número de sua solicitação?\n",
            "4\n",
            "\n",
            "Qual o número de sua solicitação?\n",
            "7\n",
            "\n",
            "Tenha um bom dia!\n"
          ],
          "name": "stdout"
        }
      ]
    },
    {
      "cell_type": "code",
      "metadata": {
        "colab": {
          "base_uri": "https://localhost:8080/",
          "height": 35
        },
        "id": "Nnx6WhoerI-Z",
        "outputId": "71e07521-ff94-4216-9ec6-da4a445921f8"
      },
      "source": [
        "doc.name"
      ],
      "execution_count": 6,
      "outputs": [
        {
          "output_type": "execute_result",
          "data": {
            "application/vnd.google.colaboratory.intrinsic+json": {
              "type": "string"
            },
            "text/plain": [
              "'VINICIUS SANCHES MACHADO - Boletim.pdf'"
            ]
          },
          "metadata": {
            "tags": []
          },
          "execution_count": 6
        }
      ]
    }
  ]
}