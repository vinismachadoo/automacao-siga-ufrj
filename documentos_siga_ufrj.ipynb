{
  "nbformat": 4,
  "nbformat_minor": 0,
  "metadata": {
    "colab": {
      "name": "documentos_siga_ufrj.ipynb",
      "provenance": [],
      "collapsed_sections": [],
      "include_colab_link": true
    },
    "kernelspec": {
      "name": "python3",
      "display_name": "Python 3"
    }
  },
  "cells": [
    {
      "cell_type": "markdown",
      "metadata": {
        "id": "view-in-github",
        "colab_type": "text"
      },
      "source": [
        "<a href=\"https://colab.research.google.com/github/vinismachadoo/automacao-siga-ufrj/blob/main/documentos_siga_ufrj.ipynb\" target=\"_parent\"><img src=\"https://colab.research.google.com/assets/colab-badge.svg\" alt=\"Open In Colab\"/></a>"
      ]
    },
    {
      "cell_type": "code",
      "metadata": {
        "id": "8HrG6H1lqkQ0",
        "colab": {
          "base_uri": "https://localhost:8080/"
        },
        "outputId": "6b06da5e-2bfd-4174-b3b1-153bc2eeb05c"
      },
      "source": [
        "!pip install selenium -q\n",
        "!apt-get update -q\n",
        "!apt install chromium-chromedriver -q"
      ],
      "execution_count": 1,
      "outputs": [
        {
          "output_type": "stream",
          "text": [
            "\u001b[?25l\r\u001b[K     |▍                               | 10kB 19.1MB/s eta 0:00:01\r\u001b[K     |▊                               | 20kB 23.9MB/s eta 0:00:01\r\u001b[K     |█                               | 30kB 27.9MB/s eta 0:00:01\r\u001b[K     |█▌                              | 40kB 13.1MB/s eta 0:00:01\r\u001b[K     |█▉                              | 51kB 9.3MB/s eta 0:00:01\r\u001b[K     |██▏                             | 61kB 10.7MB/s eta 0:00:01\r\u001b[K     |██▌                             | 71kB 9.8MB/s eta 0:00:01\r\u001b[K     |███                             | 81kB 8.4MB/s eta 0:00:01\r\u001b[K     |███▎                            | 92kB 8.1MB/s eta 0:00:01\r\u001b[K     |███▋                            | 102kB 8.5MB/s eta 0:00:01\r\u001b[K     |████                            | 112kB 8.5MB/s eta 0:00:01\r\u001b[K     |████▍                           | 122kB 8.5MB/s eta 0:00:01\r\u001b[K     |████▊                           | 133kB 8.5MB/s eta 0:00:01\r\u001b[K     |█████                           | 143kB 8.5MB/s eta 0:00:01\r\u001b[K     |█████▍                          | 153kB 8.5MB/s eta 0:00:01\r\u001b[K     |█████▉                          | 163kB 8.5MB/s eta 0:00:01\r\u001b[K     |██████▏                         | 174kB 8.5MB/s eta 0:00:01\r\u001b[K     |██████▌                         | 184kB 8.5MB/s eta 0:00:01\r\u001b[K     |██████▉                         | 194kB 8.5MB/s eta 0:00:01\r\u001b[K     |███████▎                        | 204kB 8.5MB/s eta 0:00:01\r\u001b[K     |███████▋                        | 215kB 8.5MB/s eta 0:00:01\r\u001b[K     |████████                        | 225kB 8.5MB/s eta 0:00:01\r\u001b[K     |████████▎                       | 235kB 8.5MB/s eta 0:00:01\r\u001b[K     |████████▊                       | 245kB 8.5MB/s eta 0:00:01\r\u001b[K     |█████████                       | 256kB 8.5MB/s eta 0:00:01\r\u001b[K     |█████████▍                      | 266kB 8.5MB/s eta 0:00:01\r\u001b[K     |█████████▉                      | 276kB 8.5MB/s eta 0:00:01\r\u001b[K     |██████████▏                     | 286kB 8.5MB/s eta 0:00:01\r\u001b[K     |██████████▌                     | 296kB 8.5MB/s eta 0:00:01\r\u001b[K     |██████████▉                     | 307kB 8.5MB/s eta 0:00:01\r\u001b[K     |███████████▎                    | 317kB 8.5MB/s eta 0:00:01\r\u001b[K     |███████████▋                    | 327kB 8.5MB/s eta 0:00:01\r\u001b[K     |████████████                    | 337kB 8.5MB/s eta 0:00:01\r\u001b[K     |████████████▎                   | 348kB 8.5MB/s eta 0:00:01\r\u001b[K     |████████████▊                   | 358kB 8.5MB/s eta 0:00:01\r\u001b[K     |█████████████                   | 368kB 8.5MB/s eta 0:00:01\r\u001b[K     |█████████████▍                  | 378kB 8.5MB/s eta 0:00:01\r\u001b[K     |█████████████▊                  | 389kB 8.5MB/s eta 0:00:01\r\u001b[K     |██████████████▏                 | 399kB 8.5MB/s eta 0:00:01\r\u001b[K     |██████████████▌                 | 409kB 8.5MB/s eta 0:00:01\r\u001b[K     |██████████████▉                 | 419kB 8.5MB/s eta 0:00:01\r\u001b[K     |███████████████▏                | 430kB 8.5MB/s eta 0:00:01\r\u001b[K     |███████████████▋                | 440kB 8.5MB/s eta 0:00:01\r\u001b[K     |████████████████                | 450kB 8.5MB/s eta 0:00:01\r\u001b[K     |████████████████▎               | 460kB 8.5MB/s eta 0:00:01\r\u001b[K     |████████████████▋               | 471kB 8.5MB/s eta 0:00:01\r\u001b[K     |█████████████████               | 481kB 8.5MB/s eta 0:00:01\r\u001b[K     |█████████████████▍              | 491kB 8.5MB/s eta 0:00:01\r\u001b[K     |█████████████████▊              | 501kB 8.5MB/s eta 0:00:01\r\u001b[K     |██████████████████▏             | 512kB 8.5MB/s eta 0:00:01\r\u001b[K     |██████████████████▌             | 522kB 8.5MB/s eta 0:00:01\r\u001b[K     |██████████████████▉             | 532kB 8.5MB/s eta 0:00:01\r\u001b[K     |███████████████████▏            | 542kB 8.5MB/s eta 0:00:01\r\u001b[K     |███████████████████▋            | 552kB 8.5MB/s eta 0:00:01\r\u001b[K     |████████████████████            | 563kB 8.5MB/s eta 0:00:01\r\u001b[K     |████████████████████▎           | 573kB 8.5MB/s eta 0:00:01\r\u001b[K     |████████████████████▋           | 583kB 8.5MB/s eta 0:00:01\r\u001b[K     |█████████████████████           | 593kB 8.5MB/s eta 0:00:01\r\u001b[K     |█████████████████████▍          | 604kB 8.5MB/s eta 0:00:01\r\u001b[K     |█████████████████████▊          | 614kB 8.5MB/s eta 0:00:01\r\u001b[K     |██████████████████████          | 624kB 8.5MB/s eta 0:00:01\r\u001b[K     |██████████████████████▌         | 634kB 8.5MB/s eta 0:00:01\r\u001b[K     |██████████████████████▉         | 645kB 8.5MB/s eta 0:00:01\r\u001b[K     |███████████████████████▏        | 655kB 8.5MB/s eta 0:00:01\r\u001b[K     |███████████████████████▌        | 665kB 8.5MB/s eta 0:00:01\r\u001b[K     |████████████████████████        | 675kB 8.5MB/s eta 0:00:01\r\u001b[K     |████████████████████████▎       | 686kB 8.5MB/s eta 0:00:01\r\u001b[K     |████████████████████████▋       | 696kB 8.5MB/s eta 0:00:01\r\u001b[K     |█████████████████████████       | 706kB 8.5MB/s eta 0:00:01\r\u001b[K     |█████████████████████████▍      | 716kB 8.5MB/s eta 0:00:01\r\u001b[K     |█████████████████████████▊      | 727kB 8.5MB/s eta 0:00:01\r\u001b[K     |██████████████████████████      | 737kB 8.5MB/s eta 0:00:01\r\u001b[K     |██████████████████████████▍     | 747kB 8.5MB/s eta 0:00:01\r\u001b[K     |██████████████████████████▉     | 757kB 8.5MB/s eta 0:00:01\r\u001b[K     |███████████████████████████▏    | 768kB 8.5MB/s eta 0:00:01\r\u001b[K     |███████████████████████████▌    | 778kB 8.5MB/s eta 0:00:01\r\u001b[K     |████████████████████████████    | 788kB 8.5MB/s eta 0:00:01\r\u001b[K     |████████████████████████████▎   | 798kB 8.5MB/s eta 0:00:01\r\u001b[K     |████████████████████████████▋   | 808kB 8.5MB/s eta 0:00:01\r\u001b[K     |█████████████████████████████   | 819kB 8.5MB/s eta 0:00:01\r\u001b[K     |█████████████████████████████▍  | 829kB 8.5MB/s eta 0:00:01\r\u001b[K     |█████████████████████████████▊  | 839kB 8.5MB/s eta 0:00:01\r\u001b[K     |██████████████████████████████  | 849kB 8.5MB/s eta 0:00:01\r\u001b[K     |██████████████████████████████▍ | 860kB 8.5MB/s eta 0:00:01\r\u001b[K     |██████████████████████████████▉ | 870kB 8.5MB/s eta 0:00:01\r\u001b[K     |███████████████████████████████▏| 880kB 8.5MB/s eta 0:00:01\r\u001b[K     |███████████████████████████████▌| 890kB 8.5MB/s eta 0:00:01\r\u001b[K     |███████████████████████████████▉| 901kB 8.5MB/s eta 0:00:01\r\u001b[K     |████████████████████████████████| 911kB 8.5MB/s \n",
            "\u001b[?25hGet:1 https://cloud.r-project.org/bin/linux/ubuntu bionic-cran40/ InRelease [3,626 B]\n",
            "Ign:2 https://developer.download.nvidia.com/compute/cuda/repos/ubuntu1804/x86_64  InRelease\n",
            "Ign:3 https://developer.download.nvidia.com/compute/machine-learning/repos/ubuntu1804/x86_64  InRelease\n",
            "Get:4 https://developer.download.nvidia.com/compute/cuda/repos/ubuntu1804/x86_64  Release [697 B]\n",
            "Hit:5 https://developer.download.nvidia.com/compute/machine-learning/repos/ubuntu1804/x86_64  Release\n",
            "Get:6 https://developer.download.nvidia.com/compute/cuda/repos/ubuntu1804/x86_64  Release.gpg [836 B]\n",
            "Get:7 http://ppa.launchpad.net/c2d4u.team/c2d4u4.0+/ubuntu bionic InRelease [15.9 kB]\n",
            "Get:8 http://security.ubuntu.com/ubuntu bionic-security InRelease [88.7 kB]\n",
            "Hit:9 http://archive.ubuntu.com/ubuntu bionic InRelease\n",
            "Get:11 http://archive.ubuntu.com/ubuntu bionic-updates InRelease [88.7 kB]\n",
            "Hit:12 http://ppa.launchpad.net/graphics-drivers/ppa/ubuntu bionic InRelease\n",
            "Ign:13 https://developer.download.nvidia.com/compute/cuda/repos/ubuntu1804/x86_64  Packages\n",
            "Get:13 https://developer.download.nvidia.com/compute/cuda/repos/ubuntu1804/x86_64  Packages [442 kB]\n",
            "Get:14 http://archive.ubuntu.com/ubuntu bionic-backports InRelease [74.6 kB]\n",
            "Get:15 http://ppa.launchpad.net/c2d4u.team/c2d4u4.0+/ubuntu bionic/main Sources [1,689 kB]\n",
            "Get:16 http://security.ubuntu.com/ubuntu bionic-security/universe amd64 Packages [1,365 kB]\n",
            "Get:17 http://archive.ubuntu.com/ubuntu bionic-updates/restricted amd64 Packages [252 kB]\n",
            "Get:18 http://security.ubuntu.com/ubuntu bionic-security/main amd64 Packages [1,781 kB]\n",
            "Get:19 http://archive.ubuntu.com/ubuntu bionic-updates/main amd64 Packages [2,209 kB]\n",
            "Get:20 http://ppa.launchpad.net/c2d4u.team/c2d4u4.0+/ubuntu bionic/main amd64 Packages [865 kB]\n",
            "Get:21 http://archive.ubuntu.com/ubuntu bionic-updates/multiverse amd64 Packages [54.3 kB]\n",
            "Get:22 http://archive.ubuntu.com/ubuntu bionic-updates/universe amd64 Packages [2,130 kB]\n",
            "Fetched 11.1 MB in 3s (3,231 kB/s)\n",
            "Reading package lists...\n",
            "Reading package lists...\n",
            "Building dependency tree...\n",
            "Reading state information...\n",
            "The following additional packages will be installed:\n",
            "  chromium-browser chromium-browser-l10n chromium-codecs-ffmpeg-extra\n",
            "Suggested packages:\n",
            "  webaccounts-chromium-extension unity-chromium-extension adobe-flashplugin\n",
            "The following NEW packages will be installed:\n",
            "  chromium-browser chromium-browser-l10n chromium-chromedriver\n",
            "  chromium-codecs-ffmpeg-extra\n",
            "0 upgraded, 4 newly installed, 0 to remove and 57 not upgraded.\n",
            "Need to get 80.2 MB of archives.\n",
            "After this operation, 272 MB of additional disk space will be used.\n",
            "Get:1 http://archive.ubuntu.com/ubuntu bionic-updates/universe amd64 chromium-codecs-ffmpeg-extra amd64 86.0.4240.198-0ubuntu0.18.04.1 [1,126 kB]\n",
            "Get:2 http://archive.ubuntu.com/ubuntu bionic-updates/universe amd64 chromium-browser amd64 86.0.4240.198-0ubuntu0.18.04.1 [71.0 MB]\n",
            "Get:3 http://archive.ubuntu.com/ubuntu bionic-updates/universe amd64 chromium-browser-l10n all 86.0.4240.198-0ubuntu0.18.04.1 [3,585 kB]\n",
            "Get:4 http://archive.ubuntu.com/ubuntu bionic-updates/universe amd64 chromium-chromedriver amd64 86.0.4240.198-0ubuntu0.18.04.1 [4,492 kB]\n",
            "Fetched 80.2 MB in 5s (15.3 MB/s)\n",
            "Selecting previously unselected package chromium-codecs-ffmpeg-extra.\n",
            "(Reading database ... 144793 files and directories currently installed.)\n",
            "Preparing to unpack .../chromium-codecs-ffmpeg-extra_86.0.4240.198-0ubuntu0.18.04.1_amd64.deb ...\n",
            "Unpacking chromium-codecs-ffmpeg-extra (86.0.4240.198-0ubuntu0.18.04.1) ...\n",
            "Selecting previously unselected package chromium-browser.\n",
            "Preparing to unpack .../chromium-browser_86.0.4240.198-0ubuntu0.18.04.1_amd64.deb ...\n",
            "Unpacking chromium-browser (86.0.4240.198-0ubuntu0.18.04.1) ...\n",
            "Selecting previously unselected package chromium-browser-l10n.\n",
            "Preparing to unpack .../chromium-browser-l10n_86.0.4240.198-0ubuntu0.18.04.1_all.deb ...\n",
            "Unpacking chromium-browser-l10n (86.0.4240.198-0ubuntu0.18.04.1) ...\n",
            "Selecting previously unselected package chromium-chromedriver.\n",
            "Preparing to unpack .../chromium-chromedriver_86.0.4240.198-0ubuntu0.18.04.1_amd64.deb ...\n",
            "Unpacking chromium-chromedriver (86.0.4240.198-0ubuntu0.18.04.1) ...\n",
            "Setting up chromium-codecs-ffmpeg-extra (86.0.4240.198-0ubuntu0.18.04.1) ...\n",
            "Setting up chromium-browser (86.0.4240.198-0ubuntu0.18.04.1) ...\n",
            "update-alternatives: using /usr/bin/chromium-browser to provide /usr/bin/x-www-browser (x-www-browser) in auto mode\n",
            "update-alternatives: using /usr/bin/chromium-browser to provide /usr/bin/gnome-www-browser (gnome-www-browser) in auto mode\n",
            "Setting up chromium-chromedriver (86.0.4240.198-0ubuntu0.18.04.1) ...\n",
            "Setting up chromium-browser-l10n (86.0.4240.198-0ubuntu0.18.04.1) ...\n",
            "Processing triggers for hicolor-icon-theme (0.17-2) ...\n",
            "Processing triggers for mime-support (3.60ubuntu1) ...\n",
            "Processing triggers for man-db (2.8.3-2ubuntu0.1) ...\n"
          ],
          "name": "stdout"
        }
      ]
    },
    {
      "cell_type": "code",
      "metadata": {
        "id": "9eBLs4rwsS-S"
      },
      "source": [
        "import time\n",
        "import getpass\n",
        "from selenium import webdriver\n",
        "from selenium.webdriver.common.keys import Keys\n",
        "from selenium.webdriver.chrome.options import Options"
      ],
      "execution_count": 2,
      "outputs": []
    },
    {
      "cell_type": "code",
      "metadata": {
        "id": "KlPRtz9wBuNY"
      },
      "source": [
        "options = Options()\n",
        "options.add_argument('--headless')\n",
        "options.add_argument('--no-sandbox')\n",
        "options.add_argument('--disable-dev-shm-usage')\n",
        "options.add_argument('start-maximized')\n",
        "options.add_argument('disable-infobars')\n",
        "options.add_argument('--disable-extensions')\n",
        "options.add_argument('--log-level=3')\n",
        "\n",
        "browser = webdriver.Chrome(options=options)"
      ],
      "execution_count": 3,
      "outputs": []
    },
    {
      "cell_type": "code",
      "metadata": {
        "colab": {
          "base_uri": "https://localhost:8080/"
        },
        "id": "46IuF-pmByqq",
        "outputId": "8e2cb6af-3649-45fa-e3b2-a074527959c5"
      },
      "source": [
        "browser.get(\"https://portal.ufrj.br/Portal/\")\n",
        "\n",
        "print('Olá!')\n",
        "print('Por favor insira seu usuário')\n",
        "username = getpass.getpass()\n",
        "print('Por favor insira sua senha')\n",
        "password = getpass.getpass()\n",
        "\n",
        "time.sleep(3)\n",
        "identificacao = browser.find_element_by_id('inputUsername')\n",
        "identificacao.send_keys(username)\n",
        "\n",
        "senha = browser.find_element_by_id('inputPassword')\n",
        "senha.send_keys(password)\n",
        "senha.send_keys(Keys.RETURN)"
      ],
      "execution_count": 4,
      "outputs": [
        {
          "output_type": "stream",
          "text": [
            "Olá!\n",
            "Por favor insira seu usuário\n",
            "··········\n",
            "Por favor insira sua senha\n",
            "··········\n"
          ],
          "name": "stdout"
        }
      ]
    },
    {
      "cell_type": "code",
      "metadata": {
        "id": "cMq3mPkLB9Hw"
      },
      "source": [
        "def print_menu():\n",
        "    print('--------------------')\n",
        "    print('        MENU        ')\n",
        "    print('--------------------')\n",
        "    print('1. Regularmente Matriculado')\n",
        "    print('2. Passe Livre Universitário')\n",
        "    print('3. Historico')\n",
        "    print('4. Boletim')\n",
        "    print('5. BOA')\n",
        "    print('6. CRID')\n",
        "    print('7. Sair')"
      ],
      "execution_count": 5,
      "outputs": []
    },
    {
      "cell_type": "code",
      "metadata": {
        "id": "3TbGQgToCkPq"
      },
      "source": [
        "def executa_solicitacao(xpath):\n",
        "    print('\\nFazendo download de seu documento...')\n",
        "    documento = browser.find_element_by_xpath(xpath)\n",
        "    documento.click()\n",
        "    time.sleep(4)\n",
        "    print('Download concluido com sucesso')"
      ],
      "execution_count": 6,
      "outputs": []
    },
    {
      "cell_type": "code",
      "metadata": {
        "id": "jkvSHXmqC6es"
      },
      "source": [
        "caminho = {\n",
        "    '1': \"//a[@class='documento regularmenteMatriculado']\",\n",
        "    '2': \"//a[@class='documento passeLivreUniversitario']\",\n",
        "    '3': \"//a[@id='botaoHistorico']\",\n",
        "    '4': \"//a[@id='botaoBoletim']\",\n",
        "    '5': \"//a[@class='documento boa']\",\n",
        "    '6': \"//a[@class='documento crid']\",\n",
        "}"
      ],
      "execution_count": 7,
      "outputs": []
    },
    {
      "cell_type": "code",
      "metadata": {
        "colab": {
          "base_uri": "https://localhost:8080/"
        },
        "id": "77ViQf_ZqypG",
        "outputId": "b76b58b7-6d0a-4a80-c469-50fa94f16bce"
      },
      "source": [
        "print('Bem vindo ao portal SIGA UFRJ\\n')\n",
        "\n",
        "time.sleep(3)\n",
        "browser.get(\"https://portal.ufrj.br/Documentos/\")\n",
        "\n",
        "time.sleep(2)\n",
        "print_menu()\n",
        "\n",
        "while True:    \n",
        "    print('\\nQual o número de sua solicitação?')\n",
        "    solicitacao = input()\n",
        "\n",
        "    if solicitacao in ['1','2','3','4','5','6']:\n",
        "        xpath = caminho[solicitacao]\n",
        "        executa_solicitacao(xpath)\n",
        "    elif solicitacao == '7':\n",
        "        print('\\nTenha um bom dia!')\n",
        "        break\n",
        "    else:\n",
        "        print('Solicitação não encontrada. Por favor tente novamente\\n')"
      ],
      "execution_count": 8,
      "outputs": [
        {
          "output_type": "stream",
          "text": [
            "\n",
            "Bem vindo ao portal SIGA UFRJ\n",
            "\n",
            "--------------------\n",
            "        MENU        \n",
            "--------------------\n",
            "1. Regularmente Matriculado\n",
            "2. Passe Livre Universitário\n",
            "3. Historico\n",
            "4. Boletim\n",
            "5. BOA\n",
            "6. CRID\n",
            "7. Sair\n",
            "\n",
            "Qual o número de sua solicitação?\n",
            "3\n",
            "\n",
            "Fazendo download de seu documento...\n",
            "Download concluido com sucesso\n",
            "\n",
            "Qual o número de sua solicitação?\n",
            "7\n",
            "\n",
            "Tenha um bom dia!\n"
          ],
          "name": "stdout"
        }
      ]
    }
  ]
}