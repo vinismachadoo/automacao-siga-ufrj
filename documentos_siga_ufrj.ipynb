{
  "nbformat": 4,
  "nbformat_minor": 0,
  "metadata": {
    "colab": {
      "name": "documentos_siga_ufrj.ipynb",
      "provenance": [],
      "authorship_tag": "ABX9TyOs+2xGTJx3GdVHFze4plCr",
      "include_colab_link": true
    },
    "kernelspec": {
      "name": "python3",
      "display_name": "Python 3"
    }
  },
  "cells": [
    {
      "cell_type": "markdown",
      "metadata": {
        "id": "view-in-github",
        "colab_type": "text"
      },
      "source": [
        "<a href=\"https://colab.research.google.com/github/vinismachadoo/automacao-siga-ufrj/blob/main/documentos_siga_ufrj.ipynb\" target=\"_parent\"><img src=\"https://colab.research.google.com/assets/colab-badge.svg\" alt=\"Open In Colab\"/></a>"
      ]
    },
    {
      "cell_type": "code",
      "metadata": {
        "id": "8HrG6H1lqkQ0",
        "colab": {
          "base_uri": "https://localhost:8080/"
        },
        "outputId": "01855300-7ad9-49fd-aa3c-13e0120b302c"
      },
      "source": [
        "!pip install selenium -q\n",
        "!apt-get update -q\n",
        "!apt install chromium-chromedriver -q"
      ],
      "execution_count": 1,
      "outputs": [
        {
          "output_type": "stream",
          "text": [
            "Hit:1 http://ppa.launchpad.net/c2d4u.team/c2d4u4.0+/ubuntu bionic InRelease\n",
            "Hit:2 http://archive.ubuntu.com/ubuntu bionic InRelease\n",
            "Get:3 http://security.ubuntu.com/ubuntu bionic-security InRelease [88.7 kB]\n",
            "Get:4 http://archive.ubuntu.com/ubuntu bionic-updates InRelease [88.7 kB]\n",
            "Hit:5 https://cloud.r-project.org/bin/linux/ubuntu bionic-cran40/ InRelease\n",
            "Hit:6 http://ppa.launchpad.net/graphics-drivers/ppa/ubuntu bionic InRelease\n",
            "Get:7 http://archive.ubuntu.com/ubuntu bionic-backports InRelease [74.6 kB]\n",
            "Ign:8 https://developer.download.nvidia.com/compute/cuda/repos/ubuntu1804/x86_64  InRelease\n",
            "Ign:9 https://developer.download.nvidia.com/compute/machine-learning/repos/ubuntu1804/x86_64  InRelease\n",
            "Hit:10 https://developer.download.nvidia.com/compute/cuda/repos/ubuntu1804/x86_64  Release\n",
            "Hit:11 https://developer.download.nvidia.com/compute/machine-learning/repos/ubuntu1804/x86_64  Release\n",
            "Fetched 252 kB in 2s (165 kB/s)\n",
            "Reading package lists...\n",
            "Reading package lists...\n",
            "Building dependency tree...\n",
            "Reading state information...\n",
            "chromium-chromedriver is already the newest version (86.0.4240.198-0ubuntu0.18.04.1).\n",
            "0 upgraded, 0 newly installed, 0 to remove and 57 not upgraded.\n"
          ],
          "name": "stdout"
        }
      ]
    },
    {
      "cell_type": "code",
      "metadata": {
        "id": "9eBLs4rwsS-S"
      },
      "source": [
        "import time\n",
        "import getpass\n",
        "from selenium import webdriver\n",
        "from selenium.webdriver.common.keys import Keys\n",
        "from selenium.webdriver.chrome.options import Options"
      ],
      "execution_count": 2,
      "outputs": []
    },
    {
      "cell_type": "code",
      "metadata": {
        "id": "KlPRtz9wBuNY"
      },
      "source": [
        "options = Options()\n",
        "options.add_argument('--headless')\n",
        "options.add_argument('--no-sandbox')\n",
        "options.add_argument('--disable-dev-shm-usage')\n",
        "options.add_argument('start-maximized')\n",
        "options.add_argument('disable-infobars')\n",
        "options.add_argument('--disable-extensions')\n",
        "options.add_argument('--log-level=3')\n",
        "\n",
        "browser = webdriver.Chrome(options=options)"
      ],
      "execution_count": 3,
      "outputs": []
    },
    {
      "cell_type": "code",
      "metadata": {
        "colab": {
          "base_uri": "https://localhost:8080/"
        },
        "id": "46IuF-pmByqq",
        "outputId": "2592e9e4-8cc6-4f32-d6b6-df6ab290a4d1"
      },
      "source": [
        "browser.get(\"https://portal.ufrj.br/Portal/\")\n",
        "\n",
        "print('Olá!')\n",
        "print('Por favor insira seu usuário')\n",
        "username = getpass.getpass()\n",
        "print('Por favor insira sua senha')\n",
        "password = getpass.getpass()\n",
        "\n",
        "time.sleep(3)\n",
        "identificacao = browser.find_element_by_id('inputUsername')\n",
        "identificacao.send_keys(username)\n",
        "\n",
        "senha = browser.find_element_by_id('inputPassword')\n",
        "senha.send_keys(password)\n",
        "senha.send_keys(Keys.RETURN)"
      ],
      "execution_count": 4,
      "outputs": [
        {
          "output_type": "stream",
          "text": [
            "Olá!\n",
            "Por favor insira seu usuário\n",
            "··········\n",
            "Por favor insira sua senha\n",
            "··········\n"
          ],
          "name": "stdout"
        }
      ]
    },
    {
      "cell_type": "code",
      "metadata": {
        "id": "cMq3mPkLB9Hw"
      },
      "source": [
        "def print_menu():\n",
        "    print('--------------------')\n",
        "    print('        MENU        ')\n",
        "    print('--------------------')\n",
        "    print('1. Regularmente Matriculado')\n",
        "    print('2. Passe Livre Universitário')\n",
        "    print('3. Historico')\n",
        "    print('4. Boletim')\n",
        "    print('5. BOA')\n",
        "    print('6. CRID')\n",
        "    print('7. Sair')"
      ],
      "execution_count": 5,
      "outputs": []
    },
    {
      "cell_type": "code",
      "metadata": {
        "id": "3TbGQgToCkPq"
      },
      "source": [
        "def executa_solicitacao(xpath):\n",
        "    print('\\nFazendo download de seu documento...')\n",
        "    documento = browser.find_element_by_xpath(xpath)\n",
        "    documento.click()\n",
        "    time.sleep(4)\n",
        "    print('Download concluido com sucesso')"
      ],
      "execution_count": 6,
      "outputs": []
    },
    {
      "cell_type": "code",
      "metadata": {
        "id": "jkvSHXmqC6es"
      },
      "source": [
        "caminho = {\n",
        "    '1': \"//a[@class='documento regularmenteMatriculado']\",\n",
        "    '2': \"//a[@class='documento passeLivreUniversitario']\",\n",
        "    '3': \"//a[@id='botaoHistorico']\",\n",
        "    '4': \"//a[@id='botaoBoletim']\",\n",
        "    '5': \"//a[@class='documento boa']\",\n",
        "    '6': \"//a[@class='documento crid']\",\n",
        "}"
      ],
      "execution_count": 7,
      "outputs": []
    },
    {
      "cell_type": "code",
      "metadata": {
        "colab": {
          "base_uri": "https://localhost:8080/"
        },
        "id": "77ViQf_ZqypG",
        "outputId": "c318ea5d-65ea-4183-cfad-4973cd7aa916"
      },
      "source": [
        "print('\\nBem vindo ao portal SIGA UFRJ\\n')\n",
        "\n",
        "time.sleep(3)\n",
        "browser.get(\"https://portal.ufrj.br/Documentos/\")\n",
        "\n",
        "time.sleep(2)\n",
        "print_menu()\n",
        "\n",
        "while True:    \n",
        "    print('\\nQual o número de sua solicitação?')\n",
        "    solicitacao = input()\n",
        "\n",
        "    if solicitacao in ['1','2','3','4','5','6']:\n",
        "        xpath = caminho[solicitacao]\n",
        "        executa_solicitacao(xpath)\n",
        "    elif solicitacao == '7':\n",
        "        print('\\nTenha um bom dia!')\n",
        "        break\n",
        "    else:\n",
        "        print('Solicitação não encontrada. Por favor tente novamente\\n')"
      ],
      "execution_count": 8,
      "outputs": [
        {
          "output_type": "stream",
          "text": [
            "\n",
            "Bem vindo ao portal SIGA UFRJ\n",
            "\n",
            "--------------------\n",
            "        MENU        \n",
            "--------------------\n",
            "1. Regularmente Matriculado\n",
            "2. Passe Livre Universitário\n",
            "3. Historico\n",
            "4. Boletim\n",
            "5. BOA\n",
            "6. CRID\n",
            "7. Sair\n",
            "\n",
            "Qual o número de sua solicitação?\n",
            "4\n",
            "\n",
            "Fazendo download de seu documento...\n",
            "Download concluido com sucesso\n",
            "\n",
            "Qual o número de sua solicitação?\n",
            "7\n",
            "\n",
            "Tenha um bom dia!\n"
          ],
          "name": "stdout"
        }
      ]
    }
  ]
}